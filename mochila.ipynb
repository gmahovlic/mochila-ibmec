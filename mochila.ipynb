{
  "cells": [
    {
      "attachments": {},
      "cell_type": "markdown",
      "metadata": {},
      "source": [
        "[![Open In Colab](https://colab.research.google.com/assets/colab-badge.svg)](https://colab.research.google.com/drive/1XQQ1q_4W7PGnqYDgCBDGH5ZldOnVVFH7#scrollTo=kbURT1cqzFLF)"
      ]
    },
    {
      "attachments": {},
      "cell_type": "markdown",
      "metadata": {
        "id": "mXSTDwFya8_K"
      },
      "source": [
        "# Knapsack problem"
      ]
    },
    {
      "attachments": {},
      "cell_type": "markdown",
      "metadata": {
        "id": "DnigU1IjkCCm"
      },
      "source": [
        "## Problem description\n",
        "\n",
        "Consider the following problem with 5 items and a knapsack of capacity 10:\n",
        "\n",
        "$$max  \\quad\\quad z=4x_{1} + 6x_{2} + 5x_{3} + 3x_{4} + x_{5}$$\n",
        "$$s.a  \\quad\\quad 5x_{1} + 4x_{2} + 3x_{3} + 2x_{4} + x_{5} \\le 10$$\n",
        "$$x_{i} \\in \\{0, 1\\}, \\quad i = 1,...,5$$\n",
        "\n",
        "It must be identified, in an optimal way, which items should go in the knapsack."
      ]
    },
    {
      "attachments": {},
      "cell_type": "markdown",
      "metadata": {
        "id": "_U30Tnenl_Xh"
      },
      "source": [
        "## Solution"
      ]
    },
    {
      "attachments": {},
      "cell_type": "markdown",
      "metadata": {
        "id": "mZHdUlBWmMo-"
      },
      "source": [
        "The table below shows the utility values ($v_{i}$) and the weights ($p_{i}$) of the problem:\n",
        "\n",
        "\\begin{array}{ |c|c|c| } \n",
        " \\hline\n",
        "   & x_{1} & x_{2} & x_{3} & x_{4} & x_{5}  \\\\\n",
        " \\hline\n",
        " v_{i} & 4 & 6 & 5 & 3 & 1 \\\\ \n",
        " \\hline\n",
        " p_{i} & 5 & 4 & 3 & 2 & 1 \\\\ \n",
        " \\hline\n",
        "\\end{array}\n",
        "\n",
        "O termo independente é 10.\n"
      ]
    },
    {
      "attachments": {},
      "cell_type": "markdown",
      "metadata": {
        "id": "xaSGDhV7nsKY"
      },
      "source": [
        "### Installation of the library to be used"
      ]
    },
    {
      "cell_type": "code",
      "execution_count": 1,
      "metadata": {
        "colab": {
          "base_uri": "https://localhost:8080/"
        },
        "id": "htz0OMHGn7kc",
        "outputId": "bb5db655-7ea1-4077-f002-8aa0aec68192"
      },
      "outputs": [
        {
          "name": "stdout",
          "output_type": "stream",
          "text": [
            "Requirement already satisfied: mip in c:\\python310\\lib\\site-packages (1.15.0)\n",
            "Requirement already satisfied: cffi==1.15.* in c:\\python310\\lib\\site-packages (from mip) (1.15.1)\n",
            "Requirement already satisfied: pycparser in c:\\python310\\lib\\site-packages (from cffi==1.15.*->mip) (2.21)\n",
            "Note: you may need to restart the kernel to use updated packages.\n"
          ]
        },
        {
          "name": "stderr",
          "output_type": "stream",
          "text": [
            "WARNING: You are using pip version 22.0.4; however, version 23.0.1 is available.\n",
            "You should consider upgrading via the 'c:\\Python310\\python.exe -m pip install --upgrade pip' command.\n"
          ]
        }
      ],
      "source": [
        "%pip install mip"
      ]
    },
    {
      "attachments": {},
      "cell_type": "markdown",
      "metadata": {
        "id": "hqeTclu5oISG"
      },
      "source": [
        "### Importing the library elements that will be used"
      ]
    },
    {
      "cell_type": "code",
      "execution_count": 2,
      "metadata": {
        "id": "UVEhao_VoNUy"
      },
      "outputs": [],
      "source": [
        "from mip import Model, maximize, xsum, BINARY, OptimizationStatus"
      ]
    },
    {
      "attachments": {},
      "cell_type": "markdown",
      "metadata": {
        "id": "rRhZGdHQoQ8D"
      },
      "source": [
        "### Definition of variables with weights, utilities and independent term"
      ]
    },
    {
      "cell_type": "code",
      "execution_count": 3,
      "metadata": {
        "id": "7Oqq5ZU3obWe"
      },
      "outputs": [],
      "source": [
        "obj_coef = [4, 6, 5, 3, 1]\n",
        "rest_coef = [5, 4, 3, 2, 1]\n",
        "ind = 10 "
      ]
    },
    {
      "attachments": {},
      "cell_type": "markdown",
      "metadata": {
        "id": "06oNIJgTo14E"
      },
      "source": [
        "### Model setup"
      ]
    },
    {
      "cell_type": "code",
      "execution_count": 4,
      "metadata": {
        "id": "ITyAvAbFo7mh"
      },
      "outputs": [],
      "source": [
        "size = range(len(obj_coef))\n",
        "model = Model('pack')\n",
        "mip_vars = [model.add_var(var_type=BINARY) for i in size]"
      ]
    },
    {
      "attachments": {},
      "cell_type": "markdown",
      "metadata": {
        "id": "WAzXg_qxpdLy"
      },
      "source": [
        "### Defining the objective function"
      ]
    },
    {
      "cell_type": "code",
      "execution_count": 5,
      "metadata": {
        "id": "A2IRZBttph3y"
      },
      "outputs": [],
      "source": [
        "obj_func = xsum(obj_coef[i] * mip_vars[i] for i in size)\n",
        "model.objective = maximize(obj_func)"
      ]
    },
    {
      "attachments": {},
      "cell_type": "markdown",
      "metadata": {
        "id": "nVYQb_DTp7B3"
      },
      "source": [
        "### Adding the restriction"
      ]
    },
    {
      "cell_type": "code",
      "execution_count": 6,
      "metadata": {
        "colab": {
          "base_uri": "https://localhost:8080/"
        },
        "id": "SYjaS1Scp9sq",
        "outputId": "3316c97d-dfb5-4c2a-a704-4253b8d6cd68"
      },
      "outputs": [
        {
          "name": "stdout",
          "output_type": "stream",
          "text": [
            "The model has 5 variable(s), 1 restiction(s) e 5 zero(s)\n"
          ]
        }
      ],
      "source": [
        "model += xsum(rest_coef[i] * mip_vars[i] for i in size) <= ind\n",
        "print(f'The model has {model.num_cols} variable(s), {model.num_rows} restiction(s) e {model.num_nz} zero(s)')"
      ]
    },
    {
      "attachments": {},
      "cell_type": "markdown",
      "metadata": {
        "id": "LAlf0OlqrAwx"
      },
      "source": [
        "### Applying the model"
      ]
    },
    {
      "cell_type": "code",
      "execution_count": 7,
      "metadata": {
        "colab": {
          "base_uri": "https://localhost:8080/"
        },
        "id": "jliS1QK8rCsn",
        "outputId": "902f7c5a-c57f-4989-e4e0-71bb5f9e9b76"
      },
      "outputs": [
        {
          "name": "stdout",
          "output_type": "stream",
          "text": [
            "Successfully optimized\n"
          ]
        }
      ],
      "source": [
        "opt_status = model.optimize(max_seconds=10)\n",
        "if opt_status == OptimizationStatus.OPTIMAL:\n",
        "  print('Successfully optimized')\n",
        "else:\n",
        "  print('Failed to optimize')"
      ]
    },
    {
      "attachments": {},
      "cell_type": "markdown",
      "metadata": {
        "id": "I15Y0PtGrMae"
      },
      "source": [
        "### Results"
      ]
    },
    {
      "cell_type": "code",
      "execution_count": 8,
      "metadata": {
        "colab": {
          "base_uri": "https://localhost:8080/"
        },
        "id": "bV1tx0IWrOq-",
        "outputId": "5faa2e37-558a-48c1-9ecb-6bbc1724116c"
      },
      "outputs": [
        {
          "name": "stdout",
          "output_type": "stream",
          "text": [
            "Selected items: ['x2', 'x3', 'x4', 'x5']\n",
            "Optimal solution: 15.0\n"
          ]
        }
      ],
      "source": [
        "selected = [f'x{i+1}' for i in size if mip_vars[i].x >= 0.99]\n",
        "print(f'Selected items: {selected}')\n",
        "print(f'Optimal solution: {model.objective_value}')"
      ]
    },
    {
      "attachments": {},
      "cell_type": "markdown",
      "metadata": {},
      "source": [
        "### Proof\n",
        "\n",
        "$$z=4 \\times 0 + 6 \\times 1 + 5 \\times 1 + 3 \\times 1 + 1 = 15$$\n",
        "$$5 \\times 0 + 4 \\times 1 + 3 \\times 1 + 2 \\times 1 + 1 = 10 \\le 10$$"
      ]
    }
  ],
  "metadata": {
    "colab": {
      "provenance": []
    },
    "kernelspec": {
      "display_name": "Python 3",
      "name": "python3"
    },
    "language_info": {
      "codemirror_mode": {
        "name": "ipython",
        "version": 3
      },
      "file_extension": ".py",
      "mimetype": "text/x-python",
      "name": "python",
      "nbconvert_exporter": "python",
      "pygments_lexer": "ipython3",
      "version": "3.10.4"
    }
  },
  "nbformat": 4,
  "nbformat_minor": 0
}
