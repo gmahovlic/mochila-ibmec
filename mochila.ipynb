{
  "nbformat": 4,
  "nbformat_minor": 0,
  "metadata": {
    "colab": {
      "provenance": []
    },
    "kernelspec": {
      "name": "python3",
      "display_name": "Python 3"
    },
    "language_info": {
      "name": "python"
    }
  },
  "cells": [
    {
      "cell_type": "markdown",
      "source": [
        "# Problema da Mochila"
      ],
      "metadata": {
        "id": "mXSTDwFya8_K"
      }
    },
    {
      "cell_type": "markdown",
      "source": [
        "## Descrição do problema\n",
        "\n",
        "Considere o seguinte problema com 5 itens e uma mochila de capacidade 10:\n",
        "\n",
        "$$max  \\quad\\quad z=4x_{1} + 6x_{2} + 5x_{3} + 3x_{4} + x_{5}$$\n",
        "$$s.a  \\quad\\quad 5x_{1} + 4x_{2} + 3x_{3} + 2x_{4} + x_{5} \\le 10$$\n",
        "$$x_{i} \\in \\{0, 1\\}, \\quad i = 1,...,5$$\n",
        "\n",
        "Deve-se identificar, de forma ótima, quais itens devem entrar na mochila."
      ],
      "metadata": {
        "id": "DnigU1IjkCCm"
      }
    },
    {
      "cell_type": "markdown",
      "source": [
        "## Solução"
      ],
      "metadata": {
        "id": "_U30Tnenl_Xh"
      }
    },
    {
      "cell_type": "markdown",
      "source": [
        "A tabela abaixo mostra os valores de utilidade ($v_{i}$) e os pesos ($p_{i}$) do problema:\n",
        "\n",
        "\\begin{array}{ |c|c|c| } \n",
        " \\hline\n",
        "   & x_{1} & x_{2} & x_{3} & x_{4} & x_{5}  \\\\\n",
        " \\hline\n",
        " v_{i} & 4 & 6 & 5 & 3 & 1 \\\\ \n",
        " \\hline\n",
        " p_{i} & 5 & 4 & 3 & 2 & 1 \\\\ \n",
        " \\hline\n",
        "\\end{array}\n",
        "\n",
        "O termo independente é 10.\n"
      ],
      "metadata": {
        "id": "mZHdUlBWmMo-"
      }
    },
    {
      "cell_type": "markdown",
      "source": [
        "### Instalação da biblioteca a ser utilizada"
      ],
      "metadata": {
        "id": "xaSGDhV7nsKY"
      }
    },
    {
      "cell_type": "code",
      "source": [
        "%pip install mip"
      ],
      "metadata": {
        "colab": {
          "base_uri": "https://localhost:8080/"
        },
        "id": "htz0OMHGn7kc",
        "outputId": "bb5db655-7ea1-4077-f002-8aa0aec68192"
      },
      "execution_count": 1,
      "outputs": [
        {
          "output_type": "stream",
          "name": "stdout",
          "text": [
            "Looking in indexes: https://pypi.org/simple, https://us-python.pkg.dev/colab-wheels/public/simple/\n",
            "Collecting mip\n",
            "  Downloading mip-1.15.0-py3-none-any.whl (15.3 MB)\n",
            "\u001b[2K     \u001b[90m━━━━━━━━━━━━━━━━━━━━━━━━━━━━━━━━━━━━━━━━\u001b[0m \u001b[32m15.3/15.3 MB\u001b[0m \u001b[31m45.0 MB/s\u001b[0m eta \u001b[36m0:00:00\u001b[0m\n",
            "\u001b[?25hRequirement already satisfied: cffi==1.15.* in /usr/local/lib/python3.9/dist-packages (from mip) (1.15.1)\n",
            "Requirement already satisfied: pycparser in /usr/local/lib/python3.9/dist-packages (from cffi==1.15.*->mip) (2.21)\n",
            "Installing collected packages: mip\n",
            "Successfully installed mip-1.15.0\n"
          ]
        }
      ]
    },
    {
      "cell_type": "markdown",
      "source": [
        "### Importação dos elementos da biblioteca que serão utilizados"
      ],
      "metadata": {
        "id": "hqeTclu5oISG"
      }
    },
    {
      "cell_type": "code",
      "source": [
        "from mip import Model, maximize, xsum, CBC, BINARY, OptimizationStatus"
      ],
      "metadata": {
        "id": "UVEhao_VoNUy"
      },
      "execution_count": 2,
      "outputs": []
    },
    {
      "cell_type": "markdown",
      "source": [
        "### Definição das variáveis com os pesos, utilidades e termo independente"
      ],
      "metadata": {
        "id": "rRhZGdHQoQ8D"
      }
    },
    {
      "cell_type": "code",
      "source": [
        "obj_coef = [4, 6, 5, 3, 1]\n",
        "rest_coef = [5, 4, 3, 2, 1]\n",
        "ind = 10 "
      ],
      "metadata": {
        "id": "7Oqq5ZU3obWe"
      },
      "execution_count": 17,
      "outputs": []
    },
    {
      "cell_type": "markdown",
      "source": [
        "### Setup para o modelo"
      ],
      "metadata": {
        "id": "06oNIJgTo14E"
      }
    },
    {
      "cell_type": "code",
      "source": [
        "size = range(len(obj_coef))\n",
        "model = Model('pack')\n",
        "mip_vars = [model.add_var(var_type=BINARY) for i in size]"
      ],
      "metadata": {
        "id": "ITyAvAbFo7mh"
      },
      "execution_count": 18,
      "outputs": []
    },
    {
      "cell_type": "markdown",
      "source": [
        "### Definição da função objectivo"
      ],
      "metadata": {
        "id": "WAzXg_qxpdLy"
      }
    },
    {
      "cell_type": "code",
      "source": [
        "obj_func = xsum(obj_coef[i] * mip_vars[i] for i in size)\n",
        "model.objective = maximize(obj_func)"
      ],
      "metadata": {
        "id": "A2IRZBttph3y"
      },
      "execution_count": 19,
      "outputs": []
    },
    {
      "cell_type": "markdown",
      "source": [
        "### Adicionando as restrições"
      ],
      "metadata": {
        "id": "nVYQb_DTp7B3"
      }
    },
    {
      "cell_type": "code",
      "source": [
        "model += xsum(rest_coef[i] * mip_vars[i] for i in size) <= ind\n",
        "print(f'The model has {model.num_cols} variable(s), {model.num_rows} restiction(s) e {model.num_nz} zero(s)')"
      ],
      "metadata": {
        "colab": {
          "base_uri": "https://localhost:8080/"
        },
        "id": "SYjaS1Scp9sq",
        "outputId": "3316c97d-dfb5-4c2a-a704-4253b8d6cd68"
      },
      "execution_count": 20,
      "outputs": [
        {
          "output_type": "stream",
          "name": "stdout",
          "text": [
            "The model has 5 variable(s), 1 restiction(s) e 5 zero(s)\n"
          ]
        }
      ]
    },
    {
      "cell_type": "markdown",
      "source": [
        "### Aplicando o modelo"
      ],
      "metadata": {
        "id": "LAlf0OlqrAwx"
      }
    },
    {
      "cell_type": "code",
      "source": [
        "opt_status = model.optimize(max_seconds=10)\n",
        "if opt_status == OptimizationStatus.OPTIMAL:\n",
        "  print('Successfully optimized')\n",
        "else:\n",
        "  print('Failed to optimize')"
      ],
      "metadata": {
        "colab": {
          "base_uri": "https://localhost:8080/"
        },
        "id": "jliS1QK8rCsn",
        "outputId": "902f7c5a-c57f-4989-e4e0-71bb5f9e9b76"
      },
      "execution_count": 23,
      "outputs": [
        {
          "output_type": "stream",
          "name": "stdout",
          "text": [
            "Successfully optimized\n"
          ]
        }
      ]
    },
    {
      "cell_type": "markdown",
      "source": [
        "### Resultado"
      ],
      "metadata": {
        "id": "I15Y0PtGrMae"
      }
    },
    {
      "cell_type": "code",
      "source": [
        "selected = [f'x{i+1}' for i in size if mip_vars[i].x >= 0.99]\n",
        "print(f'Selected items: {selected}')"
      ],
      "metadata": {
        "colab": {
          "base_uri": "https://localhost:8080/"
        },
        "id": "bV1tx0IWrOq-",
        "outputId": "5faa2e37-558a-48c1-9ecb-6bbc1724116c"
      },
      "execution_count": 24,
      "outputs": [
        {
          "output_type": "stream",
          "name": "stdout",
          "text": [
            "Selected items: ['x2', 'x3', 'x4', 'x5']\n"
          ]
        }
      ]
    }
  ]
}